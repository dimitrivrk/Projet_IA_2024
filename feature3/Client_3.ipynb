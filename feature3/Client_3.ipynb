{
 "cells": [
  {
   "cell_type": "markdown",
   "metadata": {},
   "source": [
    "# 1 - Importation des modules"
   ]
  },
  {
   "cell_type": "code",
   "execution_count": 1,
   "metadata": {},
   "outputs": [],
   "source": [
    "import pandas as pd\n",
    "from sklearn.model_selection import train_test_split\n",
    "from sklearn.preprocessing import StandardScaler, OneHotEncoder\n",
    "from imblearn.over_sampling import SMOTE\n",
    "from sklearn.ensemble import RandomForestClassifier\n",
    "from sklearn.metrics import confusion_matrix, accuracy_score\n",
    "import joblib\n",
    "from sklearn.preprocessing import OrdinalEncoder\n",
    "from sklearn.model_selection import GridSearchCV\n"
   ]
  },
  {
   "cell_type": "markdown",
   "metadata": {},
   "source": [
    "# 2 - Chargement et copie des données"
   ]
  },
  {
   "cell_type": "code",
   "execution_count": 2,
   "metadata": {},
   "outputs": [
    {
     "name": "stdout",
     "output_type": "stream",
     "text": [
      "   longitude   latitude              clc_quartier             clc_secteur  \\\n",
      "0   3.293264  49.840500  Quartier du Centre-Ville             Quai Gayant   \n",
      "1   3.273380  49.861409    Quartier du Vermandois              Stade Cepy   \n",
      "2   3.289068  49.844513  Quartier du Centre-Ville   Rue Villebois Mareuil   \n",
      "3   3.302387  49.861778      Quartier de l'Europe  Square des Marronniers   \n",
      "4   3.304047  49.858446      Quartier de l'Europe           Avenue Buffon   \n",
      "\n",
      "   haut_tot  haut_tronc  tronc_diam fk_arb_etat fk_stadedev     fk_port  \\\n",
      "0       6.0         2.0        37.0    EN PLACE       Jeune  semi libre   \n",
      "1      13.0         1.0       160.0    EN PLACE      Adulte  semi libre   \n",
      "2      12.0         3.0       116.0    REMPLACÉ      Adulte  semi libre   \n",
      "3      16.0         3.0       150.0    EN PLACE      Adulte  semi libre   \n",
      "4       5.0         2.0       170.0    Essouché      Adulte      réduit   \n",
      "\n",
      "  fk_pied fk_situation fk_revetement  age_estim  fk_prec_estim  clc_nbr_diag  \\\n",
      "0   gazon   Alignement           Non       15.0            5.0           0.0   \n",
      "1   gazon       Groupe           Non       50.0           10.0           0.0   \n",
      "2   gazon   Alignement           Non       30.0           10.0           0.0   \n",
      "3   gazon       Groupe           Non       50.0            2.0           0.0   \n",
      "4   gazon        Isolé           Non       40.0            2.0           0.0   \n",
      "\n",
      "  fk_nomtech villeca feuillage remarquable  \n",
      "0     QUERUB   VILLE   Feuillu         Non  \n",
      "1  PINNIGnig   VILLE  Conifère         Non  \n",
      "2     ACEPSE   VILLE   Feuillu         Non  \n",
      "3     ACEPLA   VILLE   Feuillu         Non  \n",
      "4     SALBAB   VILLE   Feuillu         Non  \n"
     ]
    }
   ],
   "source": [
    "data = pd.read_csv('./../Data_Arbre.csv')\n",
    "df = data.copy()\n",
    "print(df.head(5))"
   ]
  },
  {
   "cell_type": "markdown",
   "metadata": {},
   "source": [
    "# 3 - Selection et divison des données utiles et de la cible"
   ]
  },
  {
   "cell_type": "code",
   "execution_count": 3,
   "metadata": {},
   "outputs": [],
   "source": [
    "# Sélectionner les colonnes pertinentes\n",
    "selected_columns = ['longitude', 'latitude', 'haut_tot', 'haut_tronc', 'tronc_diam', 'age_estim',\n",
    "                    'fk_stadedev', 'fk_port', 'fk_pied', 'fk_situation', 'fk_revetement', 'villeca',\n",
    "                    'feuillage', 'remarquable']\n",
    "\n",
    "# Séparation des colonnes numériques, catégorielles et booléennes\n",
    "numerical = ['longitude', 'latitude', 'haut_tot', 'haut_tronc', 'tronc_diam', 'age_estim']\n",
    "categorical = ['fk_stadedev', 'fk_port', 'fk_pied', 'fk_situation', 'villeca', 'feuillage']\n",
    "categorical_bool = ['remarquable', 'fk_revetement']\n",
    "target = 'fk_arb_etat'"
   ]
  },
  {
   "cell_type": "markdown",
   "metadata": {},
   "source": [
    "# 4 - Creation des données de test et de train"
   ]
  },
  {
   "cell_type": "code",
   "execution_count": 4,
   "metadata": {},
   "outputs": [],
   "source": [
    "# Définir X et y\n",
    "X = df[selected_columns]\n",
    "y = df[target]\n",
    "\n",
    "# Diviser les données en ensembles d'entraînement et de test\n",
    "X_train, X_test, y_train, y_test = train_test_split(X, y, test_size=0.2, random_state=42)"
   ]
  },
  {
   "cell_type": "markdown",
   "metadata": {},
   "source": [
    "# 5 - Enregistrement du Json test"
   ]
  },
  {
   "cell_type": "code",
   "execution_count": 5,
   "metadata": {},
   "outputs": [],
   "source": [
    "\n",
    "dataframe = pd.concat([X_test, y_test], axis=1)\n",
    "dataframe.to_json('data_test.json', orient='records', lines=True)"
   ]
  },
  {
   "cell_type": "markdown",
   "metadata": {},
   "source": [
    "# 6 - Encodage des données"
   ]
  },
  {
   "cell_type": "code",
   "execution_count": 6,
   "metadata": {},
   "outputs": [],
   "source": [
    "\n",
    "y_train = y_train.apply(lambda x: 1 if x == 'Essouché' else 0)\n",
    "y_test = y_test.apply(lambda x: 1 if x == 'Essouché' else 0)\n",
    "\n",
    "\n",
    "# Standardiser les données numériques\n",
    "scaler = StandardScaler()\n",
    "scaler.fit(X[numerical])\n",
    "X_train_numerical = pd.DataFrame(scaler.transform(X_train[numerical]), columns=numerical)\n",
    "X_test_numerical = pd.DataFrame(scaler.transform(X_test[numerical]), columns=numerical)\n",
    "\n",
    "# Encodage des données catégorielles\n",
    "encoder = OneHotEncoder(drop='first', sparse_output=False)\n",
    "encoder.fit(X[categorical])\n",
    "X_train_categorical = pd.DataFrame(encoder.transform(X_train[categorical]), columns=encoder.get_feature_names_out(categorical))\n",
    "X_test_categorical = pd.DataFrame(encoder.transform(X_test[categorical]), columns=encoder.get_feature_names_out(categorical))\n",
    "\n",
    "# Encodage des données booléennes\n",
    "encoder_bool = OrdinalEncoder(categories=[['Non', 'Oui'] for _ in categorical_bool])\n",
    "encoder_bool.fit(X[categorical_bool])\n",
    "X_train_bool = pd.DataFrame(encoder_bool.transform(X_train[categorical_bool]), columns=categorical_bool)\n",
    "X_test_bool = pd.DataFrame(encoder_bool.transform(X_test[categorical_bool]), columns=categorical_bool)\n",
    "\n",
    "# Concaténation des données\n",
    "X_train_encoded = pd.concat([X_train_numerical, X_train_categorical, X_train_bool], axis=1)\n",
    "X_test_encoded = pd.concat([X_test_numerical, X_test_categorical, X_test_bool], axis=1)\n"
   ]
  },
  {
   "cell_type": "markdown",
   "metadata": {},
   "source": [
    "# 6 - Equilibrage des classes avec SMOTE"
   ]
  },
  {
   "cell_type": "code",
   "execution_count": 7,
   "metadata": {},
   "outputs": [],
   "source": [
    "smote = SMOTE(random_state=42, sampling_strategy=0.25)\n",
    "X_train_resampled, y_train_resampled = smote.fit_resample(X_train_encoded, y_train)\n"
   ]
  },
  {
   "cell_type": "markdown",
   "metadata": {},
   "source": [
    "# 7 - Entrainement model de selection et selection des 20 features les plus importante"
   ]
  },
  {
   "cell_type": "code",
   "execution_count": 8,
   "metadata": {},
   "outputs": [],
   "source": [
    "clf = RandomForestClassifier(random_state=42)\n",
    "clf.fit(X_train_resampled, y_train_resampled)\n",
    "\n",
    "# Importance des caractéristiques\n",
    "importance = clf.feature_importances_\n",
    "feature_importance = pd.DataFrame(importance, index=X_train_encoded.columns, columns=['importance']).sort_values('importance', ascending=False)\n",
    "top_20_features = feature_importance.head(20).index\n",
    "\n",
    "# Utiliser les caractéristiques les plus importantes\n",
    "X_train_subset = X_train_resampled[top_20_features]"
   ]
  },
  {
   "cell_type": "markdown",
   "metadata": {},
   "source": [
    "# 8 - Instanciation et entrainement du model RandomForest Final"
   ]
  },
  {
   "cell_type": "code",
   "execution_count": 9,
   "metadata": {},
   "outputs": [],
   "source": [
    "clf_subset = RandomForestClassifier(random_state=42)\n",
    "clf_subset.fit(X_train_subset, y_train_resampled)\n",
    "X_test_subset = X_test_encoded[top_20_features]"
   ]
  },
  {
   "cell_type": "markdown",
   "metadata": {},
   "source": [
    "# 9 - Exemple prediction des resultat et Score / Matrice \n"
   ]
  },
  {
   "cell_type": "code",
   "execution_count": 10,
   "metadata": {},
   "outputs": [
    {
     "name": "stdout",
     "output_type": "stream",
     "text": [
      "Accuracy: 0.9831309041835358\n",
      "Confusion Matrix:\n",
      " [[1448    9]\n",
      " [  16    9]]\n"
     ]
    }
   ],
   "source": [
    "\n",
    "y_pred = clf_subset.predict(X_test_subset)\n",
    "y_pred_proba = clf_subset.predict_proba(X_test_subset)[:, 1]\n",
    "\n",
    "\n",
    "conf_matrix = confusion_matrix(y_test, y_pred)\n",
    "accuracy = accuracy_score(y_test, y_pred)\n",
    "print(\"Accuracy:\", accuracy)\n",
    "print(\"Confusion Matrix:\\n\", conf_matrix)"
   ]
  },
  {
   "cell_type": "markdown",
   "metadata": {},
   "source": [
    "# 10 - Sauvegarde du model et des encoders avec joblib"
   ]
  },
  {
   "cell_type": "code",
   "execution_count": 11,
   "metadata": {},
   "outputs": [
    {
     "name": "stdout",
     "output_type": "stream",
     "text": [
      "Les objets ont été sauvegardés avec succès.\n"
     ]
    }
   ],
   "source": [
    "\n",
    "# Sauvegarder les objets avec joblib\n",
    "model_artifacts = {\n",
    "    'scaler': scaler,\n",
    "    'encoder': encoder,\n",
    "    'encoder_bool': encoder_bool,\n",
    "    'random_forest_model': clf,\n",
    "    'random_forest_model_subset': clf_subset,\n",
    "    'top_20_features': top_20_features\n",
    "}\n",
    "\n",
    "joblib.dump(model_artifacts, 'model_artifacts.pkl')\n",
    "\n",
    "print(\"Les objets ont été sauvegardés avec succès.\")\n"
   ]
  }
 ],
 "metadata": {
  "kernelspec": {
   "display_name": "Python 3",
   "language": "python",
   "name": "python3"
  },
  "language_info": {
   "codemirror_mode": {
    "name": "ipython",
    "version": 3
   },
   "file_extension": ".py",
   "mimetype": "text/x-python",
   "name": "python",
   "nbconvert_exporter": "python",
   "pygments_lexer": "ipython3",
   "version": "3.11.6"
  }
 },
 "nbformat": 4,
 "nbformat_minor": 2
}
